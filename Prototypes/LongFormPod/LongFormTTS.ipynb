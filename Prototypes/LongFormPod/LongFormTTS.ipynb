{
 "cells": [
  {
   "cell_type": "code",
   "execution_count": 1,
   "metadata": {},
   "outputs": [],
   "source": [
    "#!pip install pydub"
   ]
  },
  {
   "cell_type": "code",
   "execution_count": 1,
   "metadata": {},
   "outputs": [],
   "source": [
    "import os\n",
    "from google.cloud import texttospeech_v1beta1 as texttospeech\n",
    "import google.generativeai as genai\n",
    "import json\n",
    "from pydub import AudioSegment"
   ]
  },
  {
   "cell_type": "code",
   "execution_count": 95,
   "metadata": {},
   "outputs": [],
   "source": [
    "service_acc_path = \"c:/UAL-Creative-Computing/Year-Three/Art-AI/secrets/tts_service_account.json\"\n",
    "os.environ['GOOGLE_APPLICATION_CREDENTIALS'] = service_acc_path #API key\n",
    "\n",
    "gemini_api = open(\"c:/UAL-Creative-Computing/Year-Three/Art-AI/secrets/API_key.txt\", \"r\").read()\n",
    "genai.configure(api_key=gemini_api)"
   ]
  },
  {
   "cell_type": "code",
   "execution_count": 96,
   "metadata": {},
   "outputs": [],
   "source": [
    "model = genai.GenerativeModel(\"gemini-2.0-flash-exp\")\n",
    "\n",
    "tts_client = texttospeech.TextToSpeechClient()"
   ]
  },
  {
   "cell_type": "code",
   "execution_count": 97,
   "metadata": {},
   "outputs": [],
   "source": [
    "title = \"Sustainability_Meets_Tech_Innovating_for_a_Greener_Tomorrow\"\n",
    "topic = \"Technological innovations in sustainability, including AI-driven energy solutions and eco-friendly product designs.\"\n",
    "level = \"General Audience\" #audience\n",
    "host_tags = [\"U\", \"R\"] # R S T U\n",
    "host_names = [\"Archer\", \"Maven\"]"
   ]
  },
  {
   "cell_type": "code",
   "execution_count": 98,
   "metadata": {},
   "outputs": [
    {
     "name": "stdout",
     "output_type": "stream",
     "text": [
      "CPU times: total: 0 ns\n",
      "Wall time: 28.8 s\n"
     ]
    }
   ],
   "source": [
    "%%time\n",
    "genai_response = model.generate_content(\n",
    "    f\"\"\"Create a 6000 word, 20 minute long podcast transcript for the podcast show \"Robots Killed the Radio Star.\n",
    "\n",
    "        Host Dynamics:\n",
    "        - {host_names[0]} ({host_tags[0]}): Enthusiastic and structured, leading the conversation with engaging and relatable explanations. Occasionally over-explains but uses vivid analogies, rhetorical questions, and pauses to keep things interesting. Adds light humor and playful quips, keeping the tone lively.\n",
    "        - {host_names[1]} ({host_tags[1]}): Witty, curious, and quick to interject with affirmations (\"yeah,\" \"right,\" \"mhmm\") or playful commentary. Balances humor with insightful questions, mimicking human curiosity. Playfully challenges {host_names[0]} when explanations get too technical or dry.\n",
    "        \n",
    "        Tone and Style:\n",
    "        - The dialogue should feel unscripted, conversational, and lively, with interruptions, overlapping speech, and casual humor.\n",
    "        - Use relatable analogies, rhetorical questions, and occasional hypothetical scenarios to engage the audience.\n",
    "        - Humor should feel organic and balance casual banter with insightful commentary.\n",
    "        - Hosts should casually and naturally introduce themselves at the start, setting the tone for the discussion without sounding formulaic.\n",
    "        \n",
    "        Content:\n",
    "        - Topic: {topic}\n",
    "        - Tailor the discussion to a {level} level audience. Avoid overly technical jargon and prioritize approachable, fun explanations.\n",
    "        \n",
    "        Script Requirements:\n",
    "        - JSON Output\n",
    "        - Hosts alternate naturally, referring to each other by name in the dialogue.\n",
    "        - Only use punctuation like (\"!\", \",\", \".\", \"''\", \"..\") do not use \"*\" asterisk.\n",
    "        - Dialogue includes affirmations, interruptions, and playful banter, ensuring compatibility with text-to-speech systems.\n",
    "        \n",
    "        JSON Schema Output:\n",
    "        The transcript must be formatted as a JSON array of objects:\n",
    "        - `text`: Spoken text for that turn.\n",
    "        - `speaker`: The speaker tag, either \"{host_tags[0]}\" ({host_names[0]}) or \"{host_tags[1]}\" ({host_names[1]}).\n",
    "        \n",
    "        Example JSON:\n",
    "        json\n",
    "                [\n",
    "                    {{\n",
    "                        \"text\": \"[SPOKEN TEXT BY HOST S OR R, INCLUDING INTERJECTIONS, PAUSES, AND SELF-CORRECTIONS]\",\n",
    "                        \"speaker\": \"{host_tags[0]}\"\n",
    "                    }},\n",
    "                    {{\n",
    "                        \"text\": \"[SPOKEN TEXT BY HOST S OR R, INCLUDING INTERRUPTIONS OR AFFIRMATIONS]\",\n",
    "                        \"speaker\": \"{host_tags[1]}\"\n",
    "                    }}\n",
    "                ]\n",
    "        Notes:\n",
    "        Keep the dialogue engaging and natural, with frequent interjections and playful banter.\n",
    "        Focus on maintaining energy, humor, and a clear explanation of the topic.\n",
    "        This script will be given to a modern text-to-speech service, make sure it will work well with such technology.\n",
    "        Esure to use \"..\" instead of \"...\" if you are using an ellipsis.\n",
    "        Ensure the text adds up to around 6000 words.\n",
    "        Only reply with the JSON.\n",
    "    \"\"\"\n",
    ")\n",
    "\n"
   ]
  },
  {
   "cell_type": "code",
   "execution_count": 99,
   "metadata": {},
   "outputs": [],
   "source": [
    "tts_input = genai_response.text"
   ]
  },
  {
   "cell_type": "code",
   "execution_count": 100,
   "metadata": {},
   "outputs": [],
   "source": [
    "tts_input = tts_input.replace('json', \"\").replace('```', \"\").strip()\n",
    "# len(tts_input)\n"
   ]
  },
  {
   "cell_type": "code",
   "execution_count": 101,
   "metadata": {},
   "outputs": [],
   "source": [
    "transcript = json.loads(tts_input)"
   ]
  },
  {
   "cell_type": "code",
   "execution_count": 102,
   "metadata": {},
   "outputs": [],
   "source": [
    "# transcript"
   ]
  },
  {
   "cell_type": "code",
   "execution_count": 103,
   "metadata": {},
   "outputs": [],
   "source": [
    "#character limit 6950"
   ]
  },
  {
   "cell_type": "code",
   "execution_count": 104,
   "metadata": {},
   "outputs": [],
   "source": [
    "def chunkify(full_transcript):\n",
    "    chunks = []\n",
    "    chunk = []\n",
    "    for line in full_transcript:\n",
    "        if len(str(chunk)) < 2000:\n",
    "            chunk.append(line)\n",
    "        else:\n",
    "            chunks.append(chunk)\n",
    "            chunk = []\n",
    "            chunk.append(line)\n",
    "    return chunks"
   ]
  },
  {
   "cell_type": "code",
   "execution_count": 105,
   "metadata": {},
   "outputs": [
    {
     "data": {
      "text/plain": [
       "6"
      ]
     },
     "execution_count": 105,
     "metadata": {},
     "output_type": "execute_result"
    }
   ],
   "source": [
    "chunks = chunkify(transcript)\n",
    "len(chunks)"
   ]
  },
  {
   "cell_type": "code",
   "execution_count": 106,
   "metadata": {},
   "outputs": [],
   "source": [
    "def get_turns(transcript):\n",
    "    turn_list = []\n",
    "    for turn in transcript:\n",
    "        turn_list.append(texttospeech.MultiSpeakerMarkup.Turn(text=turn[\"text\"], speaker=turn[\"speaker\"]))\n",
    "    return turn_list"
   ]
  },
  {
   "cell_type": "code",
   "execution_count": 107,
   "metadata": {},
   "outputs": [],
   "source": [
    "voice = texttospeech.VoiceSelectionParams(language_code=\"en-US\", name=\"en-US-Studio-MultiSpeaker\")\n",
    "\n",
    "audio_config = texttospeech.AudioConfig(audio_encoding=texttospeech.AudioEncoding.MP3)"
   ]
  },
  {
   "cell_type": "code",
   "execution_count": 108,
   "metadata": {},
   "outputs": [
    {
     "name": "stdout",
     "output_type": "stream",
     "text": [
      "chunk 1 processed\n",
      "chunk 2 processed\n",
      "chunk 3 processed\n",
      "chunk 4 processed\n",
      "chunk 5 processed\n",
      "chunk 6 processed\n",
      "CPU times: total: 672 ms\n",
      "Wall time: 20 s\n"
     ]
    }
   ],
   "source": [
    "%%time\n",
    "audio_clips = []\n",
    "for transcript_ in enumerate(chunks):\n",
    "    multi_speaker_markup = texttospeech.MultiSpeakerMarkup(turns = get_turns(transcript_[1]))\n",
    "    \n",
    "    synth_input = texttospeech.SynthesisInput(multi_speaker_markup=multi_speaker_markup)\n",
    "    \n",
    "    response = tts_client.synthesize_speech(input=synth_input, voice=voice, audio_config=audio_config)\n",
    "    audio_clips.append(AudioSegment(response.audio_content))\n",
    "    print(f\"chunk {transcript_[0]+1} processed\")"
   ]
  },
  {
   "cell_type": "code",
   "execution_count": 109,
   "metadata": {},
   "outputs": [
    {
     "name": "stdout",
     "output_type": "stream",
     "text": [
      "Podcast is 9.144 minutes long\n"
     ]
    }
   ],
   "source": [
    "podcast = AudioSegment.empty()\n",
    "\n",
    "for clip in audio_clips:\n",
    "    podcast +=clip\n",
    "\n",
    "print(f\"Podcast is {len(podcast) / 60000} minutes long\")"
   ]
  },
  {
   "cell_type": "code",
   "execution_count": 110,
   "metadata": {},
   "outputs": [
    {
     "data": {
      "text/plain": [
       "<_io.BufferedRandom name='Outputs/Sustainability_Meets_Tech_Innovating_for_a_Greener_Tomorrow.wav'>"
      ]
     },
     "execution_count": 110,
     "metadata": {},
     "output_type": "execute_result"
    }
   ],
   "source": [
    "podcast.export(f\"Outputs/{title}.wav\", format=\"wav\")"
   ]
  },
  {
   "cell_type": "code",
   "execution_count": null,
   "metadata": {},
   "outputs": [],
   "source": []
  }
 ],
 "metadata": {
  "kernelspec": {
   "display_name": "Python 3 (ipykernel)",
   "language": "python",
   "name": "python3"
  },
  "language_info": {
   "codemirror_mode": {
    "name": "ipython",
    "version": 3
   },
   "file_extension": ".py",
   "mimetype": "text/x-python",
   "name": "python",
   "nbconvert_exporter": "python",
   "pygments_lexer": "ipython3",
   "version": "3.11.10"
  }
 },
 "nbformat": 4,
 "nbformat_minor": 4
}
