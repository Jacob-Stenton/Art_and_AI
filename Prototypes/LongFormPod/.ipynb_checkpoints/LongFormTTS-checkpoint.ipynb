{
 "cells": [
  {
   "cell_type": "code",
   "execution_count": 1,
   "metadata": {},
   "outputs": [],
   "source": [
    "#!pip install pydub"
   ]
  },
  {
   "cell_type": "code",
   "execution_count": 2,
   "metadata": {},
   "outputs": [
    {
     "name": "stderr",
     "output_type": "stream",
     "text": [
      "C:\\Users\\Jacob\\miniconda3\\envs\\ai_art\\Lib\\site-packages\\pydub\\utils.py:170: RuntimeWarning: Couldn't find ffmpeg or avconv - defaulting to ffmpeg, but may not work\n",
      "  warn(\"Couldn't find ffmpeg or avconv - defaulting to ffmpeg, but may not work\", RuntimeWarning)\n"
     ]
    }
   ],
   "source": [
    "import os\n",
    "from google.cloud import texttospeech_v1beta1 as texttospeech\n",
    "import google.generativeai as genai\n",
    "import json\n",
    "from pydub import AudioSegment"
   ]
  },
  {
   "cell_type": "code",
   "execution_count": 3,
   "metadata": {},
   "outputs": [],
   "source": [
    "service_acc_path = \"c:/UAL-Creative-Computing/Year-Three/Art-AI/secrets/tts_service_account.json\"\n",
    "os.environ['GOOGLE_APPLICATION_CREDENTIALS'] = service_acc_path #API key\n",
    "\n",
    "gemini_api = open(\"c:/UAL-Creative-Computing/Year-Three/Art-AI/secrets/API_key.txt\", \"r\").read()\n",
    "genai.configure(api_key=gemini_api)"
   ]
  },
  {
   "cell_type": "code",
   "execution_count": 4,
   "metadata": {},
   "outputs": [],
   "source": [
    "model = genai.GenerativeModel(\"gemini-2.0-flash-exp\")\n",
    "\n",
    "tts_client = texttospeech.TextToSpeechClient()"
   ]
  },
  {
   "cell_type": "code",
   "execution_count": 36,
   "metadata": {},
   "outputs": [],
   "source": [
    "topic = \"The alphabet (ABCs)\"\n",
    "level = \"Intermediate\" #audience\n",
    "host_tags = [\"T\", \"R\"] # R S T U\n",
    "host_names = [\"Archer\", \"Maven\"]"
   ]
  },
  {
   "cell_type": "code",
   "execution_count": 123,
   "metadata": {},
   "outputs": [
    {
     "name": "stdout",
     "output_type": "stream",
     "text": [
      "CPU times: total: 0 ns\n",
      "Wall time: 59.2 s\n"
     ]
    }
   ],
   "source": [
    "%%time\n",
    "genai_response = model.generate_content(\n",
    "    f\"\"\"Create a 9000 word, 30 minute long podcast transcript for the podcast show \"Robots Killed the Radio Star.\n",
    "\n",
    "        Host Dynamics:\n",
    "        - {host_names[0]} ({host_tags[0]}): Enthusiastic and structured, leading the conversation with engaging and relatable explanations. Occasionally over-explains but uses vivid analogies, rhetorical questions, and pauses to keep things interesting. Adds light humor and playful quips, keeping the tone lively.\n",
    "        - {host_names[1]} ({host_tags[1]}): Witty, curious, and quick to interject with affirmations (\"yeah,\" \"right,\" \"mhmm\") or playful commentary. Balances humor with insightful questions, mimicking human curiosity. Playfully challenges {host_names[0]} when explanations get too technical or dry.\n",
    "        \n",
    "        Tone and Style:\n",
    "        - The dialogue should feel unscripted, conversational, and lively, with interruptions, overlapping speech, and casual humor.\n",
    "        - Use relatable analogies, rhetorical questions, and occasional hypothetical scenarios to engage the audience.\n",
    "        - Humor should feel organic and balance casual banter with insightful commentary.\n",
    "        - Hosts should casually and naturally introduce themselves at the start, setting the tone for the discussion without sounding formulaic.\n",
    "        \n",
    "        Content:\n",
    "        - Topic: {topic}\n",
    "        - Tailor the discussion to a {level} audience. Avoid overly technical jargon and prioritize approachable, fun explanations.\n",
    "        \n",
    "        Script Requirements:\n",
    "        - JSON Output\n",
    "        - Hosts alternate naturally, referring to each other by name in the dialogue.\n",
    "        - Only use punctuation like (\"!\", \",\", \".\", \"''\", \"..\") do not use \"*\" asterisk.\n",
    "        - Dialogue includes affirmations, interruptions, and playful banter, ensuring compatibility with text-to-speech systems.\n",
    "        \n",
    "        JSON Schema Output:\n",
    "        The transcript must be formatted as a JSON array of objects:\n",
    "        - `text`: Spoken text for that turn.\n",
    "        - `speaker`: The speaker tag, either \"{host_tags[0]}\" ({host_names[0]}) or \"{host_tags[1]}\" ({host_names[1]}).\n",
    "        \n",
    "        Example JSON:\n",
    "        json\n",
    "                [\n",
    "                    {{\n",
    "                        \"text\": \"[SPOKEN TEXT BY HOST S OR R, INCLUDING INTERJECTIONS, PAUSES, AND SELF-CORRECTIONS]\",\n",
    "                        \"speaker\": \"{host_tags[0]}\"\n",
    "                    }},\n",
    "                    {{\n",
    "                        \"text\": \"[SPOKEN TEXT BY HOST S OR R, INCLUDING INTERRUPTIONS OR AFFIRMATIONS]\",\n",
    "                        \"speaker\": \"{host_tags[1]}\"\n",
    "                    }}\n",
    "                ]\n",
    "        Notes:\n",
    "        Keep the dialogue engaging and natural, with frequent interjections and playful banter.\n",
    "        Focus on maintaining energy, humor, and a clear explanation of the topic.\n",
    "        This script will be given to a modern text-to-speech service, make sure it will work well with such technology.\n",
    "        Esure to use \"..\" instead of \"...\" if you are using an ellipsis.\n",
    "        Ensure the text adds up to around 18000 words.\n",
    "        Only reply with the JSON.\n",
    "    \"\"\"\n",
    ")\n",
    "\n"
   ]
  },
  {
   "cell_type": "code",
   "execution_count": 133,
   "metadata": {},
   "outputs": [],
   "source": [
    "tts_input = genai_response.text"
   ]
  },
  {
   "cell_type": "code",
   "execution_count": 140,
   "metadata": {},
   "outputs": [
    {
     "data": {
      "text/plain": [
       "32923"
      ]
     },
     "execution_count": 140,
     "metadata": {},
     "output_type": "execute_result"
    }
   ],
   "source": [
    "tts_input = tts_input.replace('json', \"\").replace('```', \"\").strip()\n",
    "len(tts_input)\n"
   ]
  },
  {
   "cell_type": "code",
   "execution_count": 141,
   "metadata": {},
   "outputs": [
    {
     "data": {
      "text/plain": [
       "'\"Graffiti as an art form with letters.. that'"
      ]
     },
     "execution_count": 141,
     "metadata": {},
     "output_type": "execute_result"
    }
   ],
   "source": [
    "tts_input[32879:32923]"
   ]
  },
  {
   "cell_type": "code",
   "execution_count": 136,
   "metadata": {},
   "outputs": [
    {
     "ename": "JSONDecodeError",
     "evalue": "Unterminated string starting at: line 423 column 15 (char 32879)",
     "output_type": "error",
     "traceback": [
      "\u001b[1;31m---------------------------------------------------------------------------\u001b[0m",
      "\u001b[1;31mJSONDecodeError\u001b[0m                           Traceback (most recent call last)",
      "Cell \u001b[1;32mIn[136], line 1\u001b[0m\n\u001b[1;32m----> 1\u001b[0m transcript \u001b[38;5;241m=\u001b[39m \u001b[43mjson\u001b[49m\u001b[38;5;241;43m.\u001b[39;49m\u001b[43mloads\u001b[49m\u001b[43m(\u001b[49m\u001b[43mtts_input\u001b[49m\u001b[43m)\u001b[49m\n",
      "File \u001b[1;32m~\\miniconda3\\envs\\ai_art\\Lib\\json\\__init__.py:346\u001b[0m, in \u001b[0;36mloads\u001b[1;34m(s, cls, object_hook, parse_float, parse_int, parse_constant, object_pairs_hook, **kw)\u001b[0m\n\u001b[0;32m    341\u001b[0m     s \u001b[38;5;241m=\u001b[39m s\u001b[38;5;241m.\u001b[39mdecode(detect_encoding(s), \u001b[38;5;124m'\u001b[39m\u001b[38;5;124msurrogatepass\u001b[39m\u001b[38;5;124m'\u001b[39m)\n\u001b[0;32m    343\u001b[0m \u001b[38;5;28;01mif\u001b[39;00m (\u001b[38;5;28mcls\u001b[39m \u001b[38;5;129;01mis\u001b[39;00m \u001b[38;5;28;01mNone\u001b[39;00m \u001b[38;5;129;01mand\u001b[39;00m object_hook \u001b[38;5;129;01mis\u001b[39;00m \u001b[38;5;28;01mNone\u001b[39;00m \u001b[38;5;129;01mand\u001b[39;00m\n\u001b[0;32m    344\u001b[0m         parse_int \u001b[38;5;129;01mis\u001b[39;00m \u001b[38;5;28;01mNone\u001b[39;00m \u001b[38;5;129;01mand\u001b[39;00m parse_float \u001b[38;5;129;01mis\u001b[39;00m \u001b[38;5;28;01mNone\u001b[39;00m \u001b[38;5;129;01mand\u001b[39;00m\n\u001b[0;32m    345\u001b[0m         parse_constant \u001b[38;5;129;01mis\u001b[39;00m \u001b[38;5;28;01mNone\u001b[39;00m \u001b[38;5;129;01mand\u001b[39;00m object_pairs_hook \u001b[38;5;129;01mis\u001b[39;00m \u001b[38;5;28;01mNone\u001b[39;00m \u001b[38;5;129;01mand\u001b[39;00m \u001b[38;5;129;01mnot\u001b[39;00m kw):\n\u001b[1;32m--> 346\u001b[0m     \u001b[38;5;28;01mreturn\u001b[39;00m \u001b[43m_default_decoder\u001b[49m\u001b[38;5;241;43m.\u001b[39;49m\u001b[43mdecode\u001b[49m\u001b[43m(\u001b[49m\u001b[43ms\u001b[49m\u001b[43m)\u001b[49m\n\u001b[0;32m    347\u001b[0m \u001b[38;5;28;01mif\u001b[39;00m \u001b[38;5;28mcls\u001b[39m \u001b[38;5;129;01mis\u001b[39;00m \u001b[38;5;28;01mNone\u001b[39;00m:\n\u001b[0;32m    348\u001b[0m     \u001b[38;5;28mcls\u001b[39m \u001b[38;5;241m=\u001b[39m JSONDecoder\n",
      "File \u001b[1;32m~\\miniconda3\\envs\\ai_art\\Lib\\json\\decoder.py:337\u001b[0m, in \u001b[0;36mJSONDecoder.decode\u001b[1;34m(self, s, _w)\u001b[0m\n\u001b[0;32m    332\u001b[0m \u001b[38;5;28;01mdef\u001b[39;00m \u001b[38;5;21mdecode\u001b[39m(\u001b[38;5;28mself\u001b[39m, s, _w\u001b[38;5;241m=\u001b[39mWHITESPACE\u001b[38;5;241m.\u001b[39mmatch):\n\u001b[0;32m    333\u001b[0m \u001b[38;5;250m    \u001b[39m\u001b[38;5;124;03m\"\"\"Return the Python representation of ``s`` (a ``str`` instance\u001b[39;00m\n\u001b[0;32m    334\u001b[0m \u001b[38;5;124;03m    containing a JSON document).\u001b[39;00m\n\u001b[0;32m    335\u001b[0m \n\u001b[0;32m    336\u001b[0m \u001b[38;5;124;03m    \"\"\"\u001b[39;00m\n\u001b[1;32m--> 337\u001b[0m     obj, end \u001b[38;5;241m=\u001b[39m \u001b[38;5;28;43mself\u001b[39;49m\u001b[38;5;241;43m.\u001b[39;49m\u001b[43mraw_decode\u001b[49m\u001b[43m(\u001b[49m\u001b[43ms\u001b[49m\u001b[43m,\u001b[49m\u001b[43m \u001b[49m\u001b[43midx\u001b[49m\u001b[38;5;241;43m=\u001b[39;49m\u001b[43m_w\u001b[49m\u001b[43m(\u001b[49m\u001b[43ms\u001b[49m\u001b[43m,\u001b[49m\u001b[43m \u001b[49m\u001b[38;5;241;43m0\u001b[39;49m\u001b[43m)\u001b[49m\u001b[38;5;241;43m.\u001b[39;49m\u001b[43mend\u001b[49m\u001b[43m(\u001b[49m\u001b[43m)\u001b[49m\u001b[43m)\u001b[49m\n\u001b[0;32m    338\u001b[0m     end \u001b[38;5;241m=\u001b[39m _w(s, end)\u001b[38;5;241m.\u001b[39mend()\n\u001b[0;32m    339\u001b[0m     \u001b[38;5;28;01mif\u001b[39;00m end \u001b[38;5;241m!=\u001b[39m \u001b[38;5;28mlen\u001b[39m(s):\n",
      "File \u001b[1;32m~\\miniconda3\\envs\\ai_art\\Lib\\json\\decoder.py:353\u001b[0m, in \u001b[0;36mJSONDecoder.raw_decode\u001b[1;34m(self, s, idx)\u001b[0m\n\u001b[0;32m    344\u001b[0m \u001b[38;5;250m\u001b[39m\u001b[38;5;124;03m\"\"\"Decode a JSON document from ``s`` (a ``str`` beginning with\u001b[39;00m\n\u001b[0;32m    345\u001b[0m \u001b[38;5;124;03ma JSON document) and return a 2-tuple of the Python\u001b[39;00m\n\u001b[0;32m    346\u001b[0m \u001b[38;5;124;03mrepresentation and the index in ``s`` where the document ended.\u001b[39;00m\n\u001b[1;32m   (...)\u001b[0m\n\u001b[0;32m    350\u001b[0m \n\u001b[0;32m    351\u001b[0m \u001b[38;5;124;03m\"\"\"\u001b[39;00m\n\u001b[0;32m    352\u001b[0m \u001b[38;5;28;01mtry\u001b[39;00m:\n\u001b[1;32m--> 353\u001b[0m     obj, end \u001b[38;5;241m=\u001b[39m \u001b[38;5;28;43mself\u001b[39;49m\u001b[38;5;241;43m.\u001b[39;49m\u001b[43mscan_once\u001b[49m\u001b[43m(\u001b[49m\u001b[43ms\u001b[49m\u001b[43m,\u001b[49m\u001b[43m \u001b[49m\u001b[43midx\u001b[49m\u001b[43m)\u001b[49m\n\u001b[0;32m    354\u001b[0m \u001b[38;5;28;01mexcept\u001b[39;00m \u001b[38;5;167;01mStopIteration\u001b[39;00m \u001b[38;5;28;01mas\u001b[39;00m err:\n\u001b[0;32m    355\u001b[0m     \u001b[38;5;28;01mraise\u001b[39;00m JSONDecodeError(\u001b[38;5;124m\"\u001b[39m\u001b[38;5;124mExpecting value\u001b[39m\u001b[38;5;124m\"\u001b[39m, s, err\u001b[38;5;241m.\u001b[39mvalue) \u001b[38;5;28;01mfrom\u001b[39;00m \u001b[38;5;28;01mNone\u001b[39;00m\n",
      "\u001b[1;31mJSONDecodeError\u001b[0m: Unterminated string starting at: line 423 column 15 (char 32879)"
     ]
    }
   ],
   "source": [
    "transcript = json.loads(tts_input)"
   ]
  },
  {
   "cell_type": "code",
   "execution_count": null,
   "metadata": {},
   "outputs": [],
   "source": [
    "# transcript"
   ]
  },
  {
   "cell_type": "code",
   "execution_count": null,
   "metadata": {},
   "outputs": [],
   "source": [
    "#character limit 6950"
   ]
  },
  {
   "cell_type": "code",
   "execution_count": null,
   "metadata": {},
   "outputs": [],
   "source": [
    "def chunkify(full_transcript):\n",
    "    chunks = []\n",
    "    chunk = []\n",
    "    for line in full_transcript:\n",
    "        if len(str(chunk)) < 4500:\n",
    "            chunk.append(line)\n",
    "        else:\n",
    "            chunks.append(chunk)\n",
    "            chunk = []\n",
    "            chunk.append(line)\n",
    "    return chunks"
   ]
  },
  {
   "cell_type": "code",
   "execution_count": null,
   "metadata": {},
   "outputs": [],
   "source": [
    "chunks = chunkify(transcript)"
   ]
  },
  {
   "cell_type": "code",
   "execution_count": null,
   "metadata": {},
   "outputs": [],
   "source": [
    "def get_turns(transcript):\n",
    "    turn_list = []\n",
    "    for turn in transcript:\n",
    "        turn_list.append(texttospeech.MultiSpeakerMarkup.Turn(text=turn[\"text\"], speaker=turn[\"speaker\"]))\n",
    "    return turn_list"
   ]
  },
  {
   "cell_type": "code",
   "execution_count": null,
   "metadata": {},
   "outputs": [],
   "source": [
    "voice = texttospeech.VoiceSelectionParams(language_code=\"en-US\", name=\"en-US-Studio-MultiSpeaker\")\n",
    "\n",
    "audio_config = texttospeech.AudioConfig(audio_encoding=texttospeech.AudioEncoding.MP3)"
   ]
  },
  {
   "cell_type": "code",
   "execution_count": null,
   "metadata": {},
   "outputs": [],
   "source": [
    "%%time\n",
    "audio_clips = []\n",
    "for transcript_ in enumerate(chunks):\n",
    "    multi_speaker_markup = texttospeech.MultiSpeakerMarkup(turns = get_turns(transcript_[1]))\n",
    "    \n",
    "    synth_input = texttospeech.SynthesisInput(multi_speaker_markup=multi_speaker_markup)\n",
    "    \n",
    "    response = tts_client.synthesize_speech(input=synth_input, voice=voice, audio_config=audio_config)\n",
    "    audio_clips.append(AudioSegment(response.audio_content))"
   ]
  },
  {
   "cell_type": "code",
   "execution_count": null,
   "metadata": {},
   "outputs": [],
   "source": [
    "podcast = AudioSegment.empty()\n",
    "\n",
    "for clip in audio_clips:\n",
    "    podcast +=clip\n",
    "\n",
    "print(f\"Podcast is {len(podcast) / 60000} minutes long\")"
   ]
  },
  {
   "cell_type": "code",
   "execution_count": null,
   "metadata": {},
   "outputs": [],
   "source": [
    "podcast.export(\"Outputs/podcast.wav\", format=\"wav\")"
   ]
  },
  {
   "cell_type": "code",
   "execution_count": null,
   "metadata": {},
   "outputs": [],
   "source": []
  }
 ],
 "metadata": {
  "kernelspec": {
   "display_name": "Python 3 (ipykernel)",
   "language": "python",
   "name": "python3"
  },
  "language_info": {
   "codemirror_mode": {
    "name": "ipython",
    "version": 3
   },
   "file_extension": ".py",
   "mimetype": "text/x-python",
   "name": "python",
   "nbconvert_exporter": "python",
   "pygments_lexer": "ipython3",
   "version": "3.11.10"
  }
 },
 "nbformat": 4,
 "nbformat_minor": 4
}
