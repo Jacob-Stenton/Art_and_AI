{
 "cells": [
  {
   "cell_type": "code",
   "execution_count": 22,
   "metadata": {},
   "outputs": [],
   "source": [
    "import os\n",
    "from google.cloud import texttospeech_v1beta1 as texttospeech\n",
    "import google.generativeai as genai\n",
    "import json\n"
   ]
  },
  {
   "cell_type": "code",
   "execution_count": 23,
   "metadata": {},
   "outputs": [],
   "source": [
    "service_acc_path = \"c:/UAL-Creative-Computing/Year-Three/Art-AI/secrets/tts_service_account.json\"\n",
    "os.environ['GOOGLE_APPLICATION_CREDENTIALS'] = service_acc_path #API key\n",
    "\n",
    "gemini_api = open(\"c:/UAL-Creative-Computing/Year-Three/Art-AI/secrets/API_key.txt\", \"r\").read()\n",
    "genai.configure(api_key=gemini_api)"
   ]
  },
  {
   "cell_type": "code",
   "execution_count": 24,
   "metadata": {},
   "outputs": [],
   "source": [
    "model = genai.GenerativeModel(\"gemini-2.0-flash-exp\")\n",
    "\n",
    "tts_client = texttospeech.TextToSpeechClient()"
   ]
  },
  {
   "cell_type": "code",
   "execution_count": 26,
   "metadata": {},
   "outputs": [],
   "source": [
    "topic = \"Neural networks in art\"\n",
    "level = \"Intermediate\" #audience\n",
    "host_tags = [\"S\", \"R\"] # R S T U\n",
    "host_names = [\"Archer\", \"Soup\"]"
   ]
  },
  {
   "cell_type": "code",
   "execution_count": 46,
   "metadata": {},
   "outputs": [
    {
     "name": "stdout",
     "output_type": "stream",
     "text": [
      "CPU times: total: 15.6 ms\n",
      "Wall time: 4.61 s\n"
     ]
    }
   ],
   "source": [
    "%%time\n",
    "genai_response = model.generate_content(\n",
    "    f\"\"\"Create a 100-second long podcast transcript for the podcast show \"Robots Killed the Radio Star.\"\n",
    "\n",
    "        Host Dynamics:\n",
    "        - {host_names[0]} ({host_tags[0]}): Enthusiastic and structured, leading the conversation with engaging and relatable explanations. Occasionally over-explains but uses vivid analogies, rhetorical questions, and pauses to keep things interesting. Adds light humor and playful quips, keeping the tone lively.\n",
    "        - {host_names[1]} ({host_tags[1]}): Witty, curious, and quick to interject with affirmations (\"yeah,\" \"right,\" \"mhmm\") or playful commentary. Balances humor with insightful questions, mimicking human curiosity. Playfully challenges {host_names[0]} when explanations get too technical or dry.\n",
    "        \n",
    "        Tone and Style:\n",
    "        - The dialogue should feel unscripted, conversational, and lively, with interruptions, overlapping speech, and casual humor.\n",
    "        - Use relatable analogies, rhetorical questions, and occasional hypothetical scenarios to engage the audience.\n",
    "        - Humor should feel organic and balance casual banter with insightful commentary.\n",
    "        - Hosts should naturally introduce themselves at the start, setting the tone for the discussion without sounding formulaic.\n",
    "        \n",
    "        Content:\n",
    "        - Topic: {topic}\n",
    "        - Tailor the discussion to a {level} audience. Avoid overly technical jargon and prioritize approachable, fun explanations.\n",
    "        \n",
    "        Script Requirements:\n",
    "        - JSON Output: The total JSON output must not exceed 5000 bytes.\n",
    "        - Character Limit: Keep the total JSON transcript within 2000 characters.\n",
    "        - Hosts alternate naturally, referring to each other by name in the dialogue.\n",
    "        - Only use punctuation like (\"!\", \",\", \".\", \"''\", \"..\") don't use \"*\"\n",
    "        - Dialogue includes affirmations, interruptions, and playful banter, ensuring compatibility with text-to-speech systems.\n",
    "        \n",
    "        JSON Schema Output:\n",
    "        The transcript must be formatted as a JSON array of objects:\n",
    "        - `text`: Spoken text for that turn.\n",
    "        - `speaker`: The speaker tag, either \"{host_tags[0]}\" ({host_names[0]}) or \"{host_tags[1]}\" ({host_names[1]}).\n",
    "        \n",
    "        Example JSON:\n",
    "        json\n",
    "                [\n",
    "                    {{\n",
    "                        \"text\": \"[SPOKEN TEXT BY HOST S OR R, INCLUDING INTERJECTIONS, PAUSES, AND SELF-CORRECTIONS]\",\n",
    "                        \"speaker\": \"{host_tags[0]}\"\n",
    "                    }},\n",
    "                    {{\n",
    "                        \"text\": \"[SPOKEN TEXT BY HOST S OR R, INCLUDING INTERRUPTIONS OR AFFIRMATIONS]\",\n",
    "                        \"speaker\": \"{host_tags[1]}\"\n",
    "                    }}\n",
    "                ]\n",
    "        Notes:\n",
    "        \n",
    "        Keep the dialogue engaging and natural, with frequent interjections and playful banter.\n",
    "        Ensure the total output is under 5000 bytes and no longer than 2000 characters.\n",
    "        Focus on maintaining energy, humor, and a clear explanation of the topic.\n",
    "        Only reply with the JSON\n",
    "    \"\"\",\n",
    "    tools=\"code_execution\"\n",
    ")\n",
    "\n"
   ]
  },
  {
   "cell_type": "code",
   "execution_count": 47,
   "metadata": {},
   "outputs": [],
   "source": [
    "tts_input = genai_response.text"
   ]
  },
  {
   "cell_type": "code",
   "execution_count": 60,
   "metadata": {},
   "outputs": [
    {
     "data": {
      "text/plain": [
       "1738"
      ]
     },
     "execution_count": 60,
     "metadata": {},
     "output_type": "execute_result"
    }
   ],
   "source": [
    "tts_input = tts_input.replace('json', \"\").replace('```', \"\").strip()\n",
    "len(tts_input)"
   ]
  },
  {
   "cell_type": "code",
   "execution_count": 58,
   "metadata": {},
   "outputs": [],
   "source": [
    "transcript = json.loads(tts_input)"
   ]
  },
  {
   "cell_type": "code",
   "execution_count": 59,
   "metadata": {},
   "outputs": [
    {
     "data": {
      "text/plain": [
       "[{'text': \"Hey, I'm Archer!\", 'speaker': 'S'},\n",
       " {'text': \"And I'm Soup, welcome to Robots Killed the Radio Star!\",\n",
       "  'speaker': 'R'},\n",
       " {'text': \"Today we're diving into neural networks, but like, the artsy kind.\",\n",
       "  'speaker': 'S'},\n",
       " {'text': 'Mhmm, not just spreadsheets, right?', 'speaker': 'R'},\n",
       " {'text': 'Exactly Soup! Imagine a robot that can paint like Van Gogh, but…not really, I mean it’s inspired, right?',\n",
       "  'speaker': 'S'},\n",
       " {'text': 'So, like, a robot mimic?', 'speaker': 'R'},\n",
       " {'text': \"More than a mimic! It learns from thousands of paintings, sees patterns, and then, boom, makes its own. It's like a super art student that never sleeps.\",\n",
       "  'speaker': 'S'},\n",
       " {'text': \"Whoa, that's kinda cool..\", 'speaker': 'R'},\n",
       " {'text': 'And it’s not just painting, Archer, they can compose music, write poetry, everything!',\n",
       "  'speaker': 'S'},\n",
       " {'text': \"Robots writing poems? I'm scared but also intrigued.\",\n",
       "  'speaker': 'R'},\n",
       " {'text': \"It's wild, Soup. Think of it like a kid learning to draw. It sees enough, it gets the 'feel', you know?\",\n",
       "  'speaker': 'S'},\n",
       " {'text': 'Yeah, I get you.', 'speaker': 'R'},\n",
       " {'text': 'So, are robots stealing art now?', 'speaker': 'R'},\n",
       " {'text': \"Nah, it's more like collaboration. It’s a tool, Soup, a really, really fancy digital brush\",\n",
       "  'speaker': 'S'},\n",
       " {'text': 'Right, a very expensive digital brush.', 'speaker': 'R'}]"
      ]
     },
     "execution_count": 59,
     "metadata": {},
     "output_type": "execute_result"
    }
   ],
   "source": [
    "transcript"
   ]
  },
  {
   "cell_type": "code",
   "execution_count": 32,
   "metadata": {},
   "outputs": [],
   "source": [
    "def get_turns(transcript):\n",
    "    turn_list = []\n",
    "    for turn in transcript:\n",
    "        turn_list.append(texttospeech.MultiSpeakerMarkup.Turn(text=turn[\"text\"], speaker=turn[\"speaker\"]))\n",
    "    return turn_list"
   ]
  },
  {
   "cell_type": "code",
   "execution_count": 33,
   "metadata": {},
   "outputs": [],
   "source": [
    "multi_speaker_markup = texttospeech.MultiSpeakerMarkup(\n",
    "    turns = get_turns(transcript)\n",
    ")"
   ]
  },
  {
   "cell_type": "code",
   "execution_count": 34,
   "metadata": {},
   "outputs": [],
   "source": [
    "synth_input = texttospeech.SynthesisInput(\n",
    "    multi_speaker_markup=multi_speaker_markup\n",
    ")\n",
    "\n",
    "voice = texttospeech.VoiceSelectionParams(\n",
    "    language_code=\"en-US\", name=\"en-US-Studio-MultiSpeaker\"\n",
    ")\n",
    "\n",
    "audio_config = texttospeech.AudioConfig(\n",
    "    audio_encoding=texttospeech.AudioEncoding.MP3\n",
    ")"
   ]
  },
  {
   "cell_type": "code",
   "execution_count": 37,
   "metadata": {},
   "outputs": [],
   "source": [
    "response = tts_client.synthesize_speech(\n",
    "    input=synth_input, voice=voice, audio_config=audio_config\n",
    ")"
   ]
  },
  {
   "cell_type": "code",
   "execution_count": 38,
   "metadata": {},
   "outputs": [
    {
     "name": "stdout",
     "output_type": "stream",
     "text": [
      "Audio content written to file \"output.mp3\"\n"
     ]
    }
   ],
   "source": [
    "with open(\"output.mp3\", \"wb\") as out:\n",
    "    out.write(response.audio_content)\n",
    "    print('Audio content written to file \"output.mp3\"')"
   ]
  },
  {
   "cell_type": "code",
   "execution_count": null,
   "metadata": {},
   "outputs": [],
   "source": []
  }
 ],
 "metadata": {
  "kernelspec": {
   "display_name": "Python 3 (ipykernel)",
   "language": "python",
   "name": "python3"
  },
  "language_info": {
   "codemirror_mode": {
    "name": "ipython",
    "version": 3
   },
   "file_extension": ".py",
   "mimetype": "text/x-python",
   "name": "python",
   "nbconvert_exporter": "python",
   "pygments_lexer": "ipython3",
   "version": "3.11.10"
  }
 },
 "nbformat": 4,
 "nbformat_minor": 4
}
