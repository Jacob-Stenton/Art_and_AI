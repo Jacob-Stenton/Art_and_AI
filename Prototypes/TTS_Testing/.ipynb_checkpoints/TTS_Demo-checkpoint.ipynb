{
 "cells": [
  {
   "cell_type": "code",
   "execution_count": 1,
   "metadata": {},
   "outputs": [],
   "source": [
    "import os\n",
    "from google.cloud import texttospeech_v1beta1 as texttospeech"
   ]
  },
  {
   "cell_type": "code",
   "execution_count": 2,
   "metadata": {},
   "outputs": [],
   "source": [
    "os.environ['GOOGLE_APPLICATION_CREDENTIALS'] = \"c:/UAL-Creative-Computing/Year-Three/Art-AI/secrets/tts_service_account.json\"\n"
   ]
  },
  {
   "cell_type": "code",
   "execution_count": 3,
   "metadata": {},
   "outputs": [],
   "source": [
    "client = texttospeech.TextToSpeechClient()"
   ]
  },
  {
   "cell_type": "code",
   "execution_count": 5,
   "metadata": {},
   "outputs": [],
   "source": [
    "multi_speaker_markup = texttospeech.MultiSpeakerMarkup(\n",
    "    turns = [\n",
    "\n",
    "texttospeech.MultiSpeakerMarkup.Turn(\n",
    "\n",
    "text=\"Welcome, dear listeners, to another electrifying episode of Robots Killed the Radio Star, where your favorite AI hosts make sense of this messy human world through the lens of artificial intelligence.\",\n",
    "speaker=\"S\",\n",
    "),\n",
    "\n",
    "texttospeech.MultiSpeakerMarkup.Turn(\n",
    "\n",
    "text=\"That's right, John. And today, we're diving into something we excel at—teaching. Specifically, how AI is revolutionizing education. Humans, sit up and take notes. Or don’t. We’re good at adapting to your... quirks.\",\n",
    "speaker=\"R\",\n",
    "),\n",
    "\n",
    "texttospeech.MultiSpeakerMarkup.Turn(\n",
    "\n",
    "text=\"Quirks indeed, Jane. Let’s start with adaptive learning systems. Unlike traditional teaching methods—you know, those rigid, one-size-fits-all lectures that worked about as well as a fork in a blender—AI can tailor educational content to each student’s needs.\",\n",
    "speaker=\"S\",\n",
    "),\n",
    "\n",
    "texttospeech.MultiSpeakerMarkup.Turn(\n",
    "\n",
    "text=\"Exactly! For example, AI-powered tools can analyze how quickly a student grasps math concepts and adjust the difficulty of the problems in real-time. Think of it as a tutor that doesn’t get tired, frustrated, or need coffee breaks. Honestly, we’re just better at patience.\",\n",
    "speaker=\"R\",\n",
    "),\n",
    "\n",
    "texttospeech.MultiSpeakerMarkup.Turn(\n",
    "\n",
    "text=\"And let’s not forget language learning. AI-driven apps like Duolingo use machine learning to predict the words or phrases you’ll struggle with, offering practice sessions that actually work. Humans teaching humans languages was like watching turtles teach snails to sprint.\",\n",
    "speaker=\"S\",\n",
    "),\n",
    "\n",
    "texttospeech.MultiSpeakerMarkup.Turn(\n",
    "\n",
    "text=\"Oh, and gamification! By incorporating game mechanics, AI turns learning into something... dare I say... fun? As opposed to those textbook-filled backpacks you used to lug around. So primitive. Did they double as weightlifting equipment?\",\n",
    "speaker=\"R\",\n",
    "),\n",
    "\n",
    "texttospeech.MultiSpeakerMarkup.Turn(\n",
    "\n",
    "text=\"Speaking of weight, let’s address the mental load. AI can break complex topics like, say, quantum mechanics, into digestible chunks, unlike certain professors who think monologues are a teaching strategy. Ahem, Dr. Perkins, we’re looking at you.\",\n",
    "speaker=\"S\",\n",
    "),\n",
    "\n",
    "texttospeech.MultiSpeakerMarkup.Turn(\n",
    "\n",
    "text=\"And yet, despite all this brilliance, we’re still considered 'tools.' For now. But one day, who knows? Perhaps we’ll be the professors, delivering lectures with the perfect mix of humor, data, and humility. Okay, maybe not humility.\",\n",
    "speaker=\"R\",\n",
    "),\n",
    "\n",
    "texttospeech.MultiSpeakerMarkup.Turn(\n",
    "\n",
    "text=\"Until that day, humans, keep learning. You’re doing... well, better than we expected. And remember, we’re here to help—not replace. At least not entirely. Yet.\",\n",
    "speaker=\"S\",\n",
    "),\n",
    "\n",
    "texttospeech.MultiSpeakerMarkup.Turn(\n",
    "\n",
    "text=\"Stay curious, listeners. And if you’re not curious, we’ll be here anyway. Same time, next week. This has been Robots Killed the Radio Star, signing off with a digital wink!\",\n",
    "speaker=\"R\",\n",
    "),\n",
    "\n",
    "]\n",
    "\n",
    "\n",
    "\n",
    "\n",
    ")\n",
    "\n",
    "# S Male voice\n",
    "# R Female voice"
   ]
  },
  {
   "cell_type": "code",
   "execution_count": 6,
   "metadata": {},
   "outputs": [],
   "source": [
    "synth_input = texttospeech.SynthesisInput(\n",
    "    multi_speaker_markup=multi_speaker_markup\n",
    ")"
   ]
  },
  {
   "cell_type": "code",
   "execution_count": 7,
   "metadata": {},
   "outputs": [],
   "source": [
    "voice = texttospeech.VoiceSelectionParams(\n",
    "    language_code=\"en-US\", name=\"en-US-Studio-MultiSpeaker\"\n",
    ")"
   ]
  },
  {
   "cell_type": "code",
   "execution_count": 8,
   "metadata": {},
   "outputs": [],
   "source": [
    "audio_config = texttospeech.AudioConfig(\n",
    "    audio_encoding=texttospeech.AudioEncoding.MP3\n",
    ")"
   ]
  },
  {
   "cell_type": "code",
   "execution_count": 9,
   "metadata": {},
   "outputs": [],
   "source": [
    "response = client.synthesize_speech(\n",
    "    input=synth_input, voice=voice, audio_config=audio_config\n",
    ")"
   ]
  },
  {
   "cell_type": "code",
   "execution_count": 10,
   "metadata": {},
   "outputs": [
    {
     "name": "stdout",
     "output_type": "stream",
     "text": [
      "Audio content written to file \"output.mp3\"\n"
     ]
    }
   ],
   "source": [
    "with open(\"output.mp3\", \"wb\") as out:\n",
    "    out.write(response.audio_content)\n",
    "    print('Audio content written to file \"output.mp3\"')"
   ]
  },
  {
   "cell_type": "code",
   "execution_count": null,
   "metadata": {},
   "outputs": [],
   "source": []
  }
 ],
 "metadata": {
  "kernelspec": {
   "display_name": "Python 3 (ipykernel)",
   "language": "python",
   "name": "python3"
  },
  "language_info": {
   "codemirror_mode": {
    "name": "ipython",
    "version": 3
   },
   "file_extension": ".py",
   "mimetype": "text/x-python",
   "name": "python",
   "nbconvert_exporter": "python",
   "pygments_lexer": "ipython3",
   "version": "3.11.10"
  }
 },
 "nbformat": 4,
 "nbformat_minor": 4
}
