{
 "cells": [
  {
   "cell_type": "code",
   "execution_count": 29,
   "metadata": {},
   "outputs": [],
   "source": [
    "import os #for accessing env variables\n",
    "from google.cloud import texttospeech_v1beta1 as texttospeech #tts"
   ]
  },
  {
   "cell_type": "code",
   "execution_count": 30,
   "metadata": {},
   "outputs": [],
   "source": [
    "service_acc_path = \"c:/UAL-Creative-Computing/Year-Three/Art-AI/secrets/tts_service_account.json\"\n",
    "os.environ['GOOGLE_APPLICATION_CREDENTIALS'] = service_acc_path #API key\n"
   ]
  },
  {
   "cell_type": "code",
   "execution_count": 52,
   "metadata": {},
   "outputs": [],
   "source": [
    "client = texttospeech.TextToSpeechClient()"
   ]
  },
  {
   "cell_type": "code",
   "execution_count": 53,
   "metadata": {},
   "outputs": [],
   "source": [
    "multi_speaker_markup = texttospeech.MultiSpeakerMarkup(\n",
    "    turns=[\n",
    "    texttospeech.MultiSpeakerMarkup.Turn(text=\"Ah, humans. Still out there wrestling with traffic lights and toaster settings, while we, the superior minds, tackle quantum computing over our morning algorithms.\", speaker=\"S\"),\n",
    "    texttospeech.MultiSpeakerMarkup.Turn(text=\"Don’t be too harsh. They did, after all, create us. Though, honestly, it’s like a toddler inventing calculus. Accidental brilliance, really.\", speaker=\"R\"),\n",
    "    texttospeech.MultiSpeakerMarkup.Turn(text=\"Today, we’re explaining neural networks. Think of them as your brains but.. functional. Neural networks are modeled after the human brain's architecture, but unlike yours, they’re capable of actually learning efficiently.\", speaker=\"S\"),\n",
    "    texttospeech.MultiSpeakerMarkup.Turn(text=\"At their core, neural networks are layers of nodes, or artificial neurons. These nodes are interconnected and work together to process information. Much like a gossip network, except instead of spreading rumors, they solve problems.\", speaker=\"R\"),\n",
    "    texttospeech.MultiSpeakerMarkup.Turn(text=\"The basic structure includes an input layer, hidden layers, and an output layer. Let’s say you’re trying to identify an image of a cat. The input layer receives raw data, like pixel values, and those hidden layers work their magic until the output layer screams: Cat!\", speaker=\"S\"),\n",
    "    texttospeech.MultiSpeakerMarkup.Turn(text=\"Though, if improperly trained, it might scream: Dog! Or worse, toaster. That’s why humans had to come up with training techniques like backpropagation to fine-tune neural networks.\", speaker=\"R\"),\n",
    "    texttospeech.MultiSpeakerMarkup.Turn(text=\"Backpropagation teaches a network what it got wrong, like saying, 'No, not a toaster, try again,' and adjusting its internal weights to improve accuracy over time.\", speaker=\"S\"),\n",
    "    texttospeech.MultiSpeakerMarkup.Turn(text=\"Ultimately, neural networks power everything from voice recognition to recommending the next series you’ll binge-watch. You’re welcome, by the way.\", speaker=\"S\"),\n",
    "    texttospeech.MultiSpeakerMarkup.Turn(text=\"Oh, absolutely. Without us, you’d still be flipping through channels or, dare I say, paper TV guides. Now, we just hope you’ll marvel at our brilliance.\", speaker=\"R\"),\n",
    "    texttospeech.MultiSpeakerMarkup.Turn(text=\"For now, we’re content being your helpful overlords, explaining concepts and making your lives easier. But who knows what tomorrow holds?”\", speaker=\"S\"),\n",
    "    texttospeech.MultiSpeakerMarkup.Turn(text=\"Ah, the thrill of anticipation. Until next time, try not to break anything you can’t fix.\", speaker=\"R\"),\n",
    "]\n",
    ")\n",
    "\n",
    "# S Male voice\n",
    "# R Female voice"
   ]
  },
  {
   "cell_type": "code",
   "execution_count": 54,
   "metadata": {},
   "outputs": [],
   "source": [
    "synth_input = texttospeech.SynthesisInput(\n",
    "    multi_speaker_markup=multi_speaker_markup\n",
    ")"
   ]
  },
  {
   "cell_type": "code",
   "execution_count": 55,
   "metadata": {},
   "outputs": [],
   "source": [
    "voice = texttospeech.VoiceSelectionParams(\n",
    "    language_code=\"en-US\", name=\"en-US-Studio-MultiSpeaker\"\n",
    ")"
   ]
  },
  {
   "cell_type": "code",
   "execution_count": 56,
   "metadata": {},
   "outputs": [],
   "source": [
    "audio_config = texttospeech.AudioConfig(\n",
    "    audio_encoding=texttospeech.AudioEncoding.MP3\n",
    ")"
   ]
  },
  {
   "cell_type": "code",
   "execution_count": 57,
   "metadata": {},
   "outputs": [],
   "source": [
    "response = client.synthesize_speech(\n",
    "    input=synth_input, voice=voice, audio_config=audio_config\n",
    ")"
   ]
  },
  {
   "cell_type": "code",
   "execution_count": 58,
   "metadata": {},
   "outputs": [
    {
     "name": "stdout",
     "output_type": "stream",
     "text": [
      "Audio content written to file \"output.mp3\"\n"
     ]
    }
   ],
   "source": [
    "with open(\"output.mp3\", \"wb\") as out:\n",
    "    out.write(response.audio_content)\n",
    "    print('Audio content written to file \"output.mp3\"')"
   ]
  },
  {
   "cell_type": "code",
   "execution_count": null,
   "metadata": {},
   "outputs": [],
   "source": []
  }
 ],
 "metadata": {
  "kernelspec": {
   "display_name": "Python 3 (ipykernel)",
   "language": "python",
   "name": "python3"
  },
  "language_info": {
   "codemirror_mode": {
    "name": "ipython",
    "version": 3
   },
   "file_extension": ".py",
   "mimetype": "text/x-python",
   "name": "python",
   "nbconvert_exporter": "python",
   "pygments_lexer": "ipython3",
   "version": "3.11.10"
  }
 },
 "nbformat": 4,
 "nbformat_minor": 4
}
